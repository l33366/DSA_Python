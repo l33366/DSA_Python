{
 "cells": [
  {
   "cell_type": "markdown",
   "id": "523e9c90",
   "metadata": {},
   "source": [
    "# Lists \n",
    "### It is a type of linear data structure in built in python\n",
    "### elements in a list can be changed\n",
    "\n",
    "##### List are Mutable \n",
    "Every variable in python holds an instance of an object. There are two types of objects in python i.e. Mutable and Immutable objects. Whenever an object is instantiated, it is assigned a unique object id. The type of the object is defined at the runtime and it can’t be changed afterwards. However, it’s state can be changed if it is a mutable object."
   ]
  },
  {
   "cell_type": "code",
   "execution_count": 2,
   "id": "d11058f8",
   "metadata": {},
   "outputs": [],
   "source": [
    "import numpy as np"
   ]
  },
  {
   "cell_type": "code",
   "execution_count": 36,
   "id": "b7936f10",
   "metadata": {},
   "outputs": [
    {
     "name": "stdout",
     "output_type": "stream",
     "text": [
      "[1, 2, 4, 's', array([[1, 2, 3],\n",
      "       [4, 3, 2],\n",
      "       [3, 2, 5]])]\n"
     ]
    }
   ],
   "source": [
    "b=np.array([[1,2,3],[4,3,2],[3,2,5]])\n",
    "a=np.array([6,3,9,4])\n",
    "List1=[1,2,4,'s',b]\n",
    "print(List1)"
   ]
  },
  {
   "cell_type": "code",
   "execution_count": 37,
   "id": "41c9b644",
   "metadata": {},
   "outputs": [
    {
     "name": "stdout",
     "output_type": "stream",
     "text": [
      "[1, 2, 4, 's', array([6, 3, 9, 4])]\n"
     ]
    }
   ],
   "source": [
    "# negative Indexing\n",
    "List1[-1]=a\n",
    "print(List1)"
   ]
  },
  {
   "cell_type": "markdown",
   "id": "da4b95bd",
   "metadata": {},
   "source": [
    "# Tuples\n",
    "#### Tuples can be immutable "
   ]
  },
  {
   "cell_type": "code",
   "execution_count": 38,
   "id": "2c44cdb4",
   "metadata": {},
   "outputs": [],
   "source": [
    "Tuple=(9,8,1,a)"
   ]
  },
  {
   "cell_type": "code",
   "execution_count": 39,
   "id": "b22700d3",
   "metadata": {},
   "outputs": [
    {
     "ename": "TypeError",
     "evalue": "'tuple' object does not support item assignment",
     "output_type": "error",
     "traceback": [
      "\u001b[1;31m---------------------------------------------------------------------------\u001b[0m",
      "\u001b[1;31mTypeError\u001b[0m                                 Traceback (most recent call last)",
      "\u001b[1;32m~\\AppData\\Local\\Temp/ipykernel_9316/2850646011.py\u001b[0m in \u001b[0;36m<module>\u001b[1;34m\u001b[0m\n\u001b[1;32m----> 1\u001b[1;33m \u001b[0mTuple\u001b[0m\u001b[1;33m[\u001b[0m\u001b[1;33m-\u001b[0m\u001b[1;36m1\u001b[0m\u001b[1;33m]\u001b[0m\u001b[1;33m=\u001b[0m\u001b[1;36m9\u001b[0m\u001b[1;33m\u001b[0m\u001b[1;33m\u001b[0m\u001b[0m\n\u001b[0m\u001b[0;32m      2\u001b[0m \u001b[1;31m#As you can see here unlike list in tuple you cannot assign value to the index directly\u001b[0m\u001b[1;33m\u001b[0m\u001b[1;33m\u001b[0m\u001b[0m\n",
      "\u001b[1;31mTypeError\u001b[0m: 'tuple' object does not support item assignment"
     ]
    }
   ],
   "source": [
    "Tuple[-1]=9\n",
    "#As you can see here unlike list in tuple you cannot assign value to the index directly\n"
   ]
  },
  {
   "cell_type": "markdown",
   "id": "f421c4c4",
   "metadata": {},
   "source": [
    "# Dictionary"
   ]
  },
  {
   "cell_type": "code",
   "execution_count": 26,
   "id": "72c51b56",
   "metadata": {},
   "outputs": [
    {
     "name": "stdout",
     "output_type": "stream",
     "text": [
      "{'a': 1, 'b': 2, 'c': 3, 'd': 4}\n"
     ]
    }
   ],
   "source": [
    "Dictionary = {'a':1,'b':2,'c':3,'d':4}\n",
    "print(Dictionary)"
   ]
  },
  {
   "cell_type": "code",
   "execution_count": 29,
   "id": "1bafc630",
   "metadata": {},
   "outputs": [
    {
     "name": "stdout",
     "output_type": "stream",
     "text": [
      "{'a': 6, 'b': 2, 'c': 3, 'd': 4}\n"
     ]
    }
   ],
   "source": [
    "Dictionary['a']=6\n",
    "print(Dictionary)"
   ]
  },
  {
   "cell_type": "code",
   "execution_count": 32,
   "id": "da2147fe",
   "metadata": {},
   "outputs": [],
   "source": [
    "#making dictionary using inbult function\n",
    "dictionar=dict([(1,'b'),(2,'b'),(3,a)])"
   ]
  },
  {
   "cell_type": "code",
   "execution_count": 42,
   "id": "eb26ef0d",
   "metadata": {},
   "outputs": [
    {
     "data": {
      "text/plain": [
       "[1, 2, 3, 4]"
      ]
     },
     "execution_count": 42,
     "metadata": {},
     "output_type": "execute_result"
    }
   ],
   "source": [
    "dictionar[3]"
   ]
  },
  {
   "cell_type": "markdown",
   "id": "93442da9",
   "metadata": {},
   "source": [
    "# SET\n"
   ]
  },
  {
   "cell_type": "code",
   "execution_count": 72,
   "id": "4163b78b",
   "metadata": {},
   "outputs": [],
   "source": [
    "my_set={1,3,6,9,'dog',1.3,\"hi hellp \",0,\"smol\"}"
   ]
  },
  {
   "cell_type": "code",
   "execution_count": 73,
   "id": "880168bb",
   "metadata": {},
   "outputs": [
    {
     "data": {
      "text/plain": [
       "{0, 1, 1.3, 3, 6, 9, 'dog', 'hi hellp ', 'smol'}"
      ]
     },
     "execution_count": 73,
     "metadata": {},
     "output_type": "execute_result"
    }
   ],
   "source": [
    "my_set"
   ]
  },
  {
   "cell_type": "code",
   "execution_count": null,
   "id": "ba4e19c6",
   "metadata": {},
   "outputs": [],
   "source": []
  },
  {
   "cell_type": "code",
   "execution_count": null,
   "id": "29ae54ec",
   "metadata": {},
   "outputs": [],
   "source": []
  }
 ],
 "metadata": {
  "kernelspec": {
   "display_name": "Python 3 (ipykernel)",
   "language": "python",
   "name": "python3"
  },
  "language_info": {
   "codemirror_mode": {
    "name": "ipython",
    "version": 3
   },
   "file_extension": ".py",
   "mimetype": "text/x-python",
   "name": "python",
   "nbconvert_exporter": "python",
   "pygments_lexer": "ipython3",
   "version": "3.9.7"
  }
 },
 "nbformat": 4,
 "nbformat_minor": 5
}
